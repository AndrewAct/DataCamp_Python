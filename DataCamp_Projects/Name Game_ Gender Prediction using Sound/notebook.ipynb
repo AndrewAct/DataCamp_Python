{
 "cells": [
  {
   "cell_type": "markdown",
   "metadata": {
    "dc": {
     "key": "3"
    },
    "deletable": false,
    "editable": false,
    "run_control": {
     "frozen": true
    },
    "tags": [
     "context"
    ]
   },
   "source": [
    "## 1. Sound it out!\n",
    "<p>Grey and Gray. Colour and Color. Words like these have been the cause of many heated arguments between Brits and Americans. Accents (and jokes) aside, there are many words that are pronounced the same way but have different spellings. While it is easy for us to realize their equivalence, basic programming commands will fail to equate such two strings. </p>\n",
    "<p>More extreme than word spellings are names because people have more flexibility in choosing to spell a name in a certain way. To some extent, tradition sometimes governs the way a name is spelled, which limits the number of variations of any given English name. But if we consider global names and their associated English spellings, you can only imagine how many ways they can be spelled out. </p>\n",
    "<p>One way to tackle this challenge is to write a program that checks if two strings sound the same, instead of checking for equivalence in spellings. We'll do that here using fuzzy name matching.</p>"
   ]
  },
  {
   "cell_type": "code",
   "execution_count": 16,
   "metadata": {
    "dc": {
     "key": "3"
    },
    "tags": [
     "sample_code"
    ]
   },
   "outputs": [
    {
     "name": "stdout",
     "output_type": "stream",
     "text": [
      "APL\n"
     ]
    }
   ],
   "source": [
    "# Importing the fuzzy package\n",
    "# ... YOUR CODE FOR TASK 1 ...\n",
    "import fuzzy\n",
    "# Exploring the output of fuzzy.nysiis\n",
    "# ... YOUR CODE FOR TASK 1 ...\n",
    "op = fuzzy.nysiis(\"Apple\")\n",
    "print(op)\n",
    "# Testing equivalence of similar sounding words\n",
    "# ... YOUR CODE FOR TASK 1 ..."
   ]
  },
  {
   "cell_type": "markdown",
   "metadata": {
    "dc": {
     "key": "10"
    },
    "deletable": false,
    "editable": false,
    "run_control": {
     "frozen": true
    },
    "tags": [
     "context"
    ]
   },
   "source": [
    "## 2. Authoring the authors\n",
    "<p>The New York Times puts out a weekly list of best-selling books from different genres, and which has been published since the 1930’s.  We’ll focus on Children’s Picture Books, and analyze the gender distribution of authors to see if there have been changes over time. We'll begin by reading in the data on the best selling authors from 2008 to 2017.</p>"
   ]
  },
  {
   "cell_type": "code",
   "execution_count": 17,
   "metadata": {
    "dc": {
     "key": "10"
    },
    "tags": [
     "sample_code"
    ]
   },
   "outputs": [
    {
     "name": "stdout",
     "output_type": "stream",
     "text": [
      "   Year                        Book Title                 Author  \\\n",
      "0  2017                DRAGONS LOVE TACOS             Adam Rubin   \n",
      "1  2017  THE WONDERFUL THINGS YOU WILL BE  Emily Winfield Martin   \n",
      "2  2017          THE DAY THE CRAYONS QUIT           Drew Daywalt   \n",
      "3  2017            ROSIE REVERE, ENGINEER           Andrea Beaty   \n",
      "4  2017              ADA TWIST, SCIENTIST           Andrea Beaty   \n",
      "\n",
      "   Besteller this year first_name  \n",
      "0                   49       Adam  \n",
      "1                   48      Emily  \n",
      "2                   44       Drew  \n",
      "3                   38     Andrea  \n",
      "4                   28     Andrea  \n"
     ]
    }
   ],
   "source": [
    "# Importing the pandas module\n",
    "# ...YOUR CODE FOR TASK 2...\n",
    "import pandas as pd\n",
    "# Reading in datasets/nytkids_yearly.csv, which is semicolon delimited.\n",
    "# ...YOUR CODE FOR TASK 2...\n",
    "author_df = pd.read_csv('datasets/nytkids_yearly.csv', delimiter = ';')\n",
    "# Looping through author_df['Author'] to extract the authors first names\n",
    "first_name = []\n",
    "for name in author_df['Author']:\n",
    "    first_name.append(name.split()[0])\n",
    "\n",
    "# Adding first_name as a column to author_df\n",
    "# ...YOUR CODE FOR TASK 2...\n",
    "author_df['first_name']= first_name\n",
    "# Checking out the first few rows of author_df\n",
    "# ...YOUR CODE FOR TASK 2...\n",
    "print(author_df.head())"
   ]
  },
  {
   "cell_type": "markdown",
   "metadata": {
    "dc": {
     "key": "17"
    },
    "deletable": false,
    "editable": false,
    "run_control": {
     "frozen": true
    },
    "tags": [
     "context"
    ]
   },
   "source": [
    "## 3. It's time to bring on the phonics... _again_!\n",
    "<p>When we were young children, we were taught to read using phonics; sounding out the letters that compose words. So let's relive history and do that again, but using python this time. We will now create a new column or list that contains the phonetic equivalent of every first name that we just extracted. </p>\n",
    "<p>To make sure we're on the right track, let's compare the number of unique values in the <code>first_name</code> column and the number of unique values in the nysiis coded column. As a rule of thumb, the number of unique nysiis first names should be less than or equal to the number of actual first names.</p>"
   ]
  },
  {
   "cell_type": "code",
   "execution_count": 22,
   "metadata": {
    "dc": {
     "key": "17"
    },
    "tags": [
     "sample_code"
    ]
   },
   "outputs": [
    {
     "name": "stdout",
     "output_type": "stream",
     "text": [
      "The difference between name and nysiis name is: ['Aaron' 'Adam' 'Ahmet' 'Ainsley' 'Al' 'Ame' 'Amy' 'Andrea' 'Anna'\n",
      " 'Antoine' 'Barack' 'Barb' 'Barbara' 'Beatrix' 'Benjamin' 'Berkeley'\n",
      " 'Beryl' 'Beth' 'Bill' 'Bonny' 'Brad' 'Brandon' 'Brendan' 'Brian' 'Buzz'\n",
      " 'Callista' 'Carl' 'Carmen' 'Caroline' 'Carson' 'Cathy' 'Charlie'\n",
      " 'Chelsea' 'Chris' 'Christopher' 'Clement' 'Cokie' 'Cynthia' 'Dan'\n",
      " 'Danica' 'David' 'Debbie' 'Deborah' 'Doreen' 'Drew' 'Ed' 'Elise' 'Eliza'\n",
      " 'Elle' 'Emily' 'Emma' 'Eric' 'Ferdinand' 'Gary' 'Glenn' 'Graeme' 'Greg'\n",
      " 'Herman' 'Herve' 'Hillary' 'Holly' 'Ian' 'Jacky' 'James' 'Jamie' 'Jan'\n",
      " 'Jane' 'Javaka' 'Jean' 'Jeff' 'Jennifer' 'Jenny' 'Jerry' 'Jimmy' 'Jo'\n",
      " 'Joan' 'John' 'Jon' 'Jonah' 'Joyce' 'Judy' 'Julia' 'Julian' 'Julianne'\n",
      " 'Julie' 'Kabir' 'Kareem' 'Karma' 'Kate' 'Katherine' 'Kathie' 'Keith'\n",
      " 'Kelly' 'Kevin' 'Kimberly' 'Kobi' 'Kristi' 'Laban' 'Lane' 'Laura'\n",
      " 'Laurie' 'Lemony' 'Lindsay' 'Liz' 'Lora' 'Loren' 'Lori' 'Louise' 'Lucy'\n",
      " 'Lynne' 'Mac' 'Malala' 'Marc' 'Margaret' 'Marion' 'Mark' 'Mary' 'Matt'\n",
      " 'Matthew' 'Maurice' 'Maya' 'Mem' 'Michael' 'Mike' 'Mo' 'Nancy' 'Neil'\n",
      " 'Nick' 'Nikki' 'Norton' 'Oliver' 'Olivier' 'Patricia' 'Patrick' 'Peter'\n",
      " 'Peyton' 'Pharrell' 'Philip' 'Pope' 'Queen' 'R.' 'Ree' 'Rob' 'Robert'\n",
      " 'Rufus' 'Ryan' 'Sandra' 'Sarah' 'Savannah' 'Sean' 'Shel' 'Sherman'\n",
      " 'Sherri' 'Simon' 'Sophia' 'Steve' 'Susan' 'Tad' 'Tedd' 'Theodor' 'Todd'\n",
      " 'Tomie' 'Toni' 'Tony' 'Vicki' 'Victoria' 'Walter' 'William' 'Ylvis'\n",
      " 'illustrated'],['ADAN' 'AHNAT' 'AL' 'AN' 'ANDR' 'ANSLY' 'ANTAN' 'ANY' 'ARAN' 'B' 'BAL'\n",
      " 'BANJANAN' 'BANY' 'BARAC' 'BARAL' 'BARB' 'BARBAR' 'BARCALY' 'BATH'\n",
      " 'BATRAC' 'BRAD' 'BRAN' 'BRANDAN' 'CAB' 'CABAR' 'CACY' 'CAFAN' 'CALAST'\n",
      " 'CALS' 'CALY' 'CANBARLY' 'CANT' 'CARALAN' 'CARAN' 'CARL' 'CARLY' 'CARN'\n",
      " 'CARNAN' 'CARSAN' 'CAT' 'CATARAN' 'CATH' 'CATHY' 'CHR' 'CHRASTAFAR'\n",
      " 'CLANAD' 'CRAST' 'DABAR' 'DABY' 'DAN' 'DANAC' 'DARAN' 'DAVAD' 'DR' 'ED'\n",
      " 'EL' 'ELAS' 'EN' 'ENALY' 'ERAC' 'FALAP' 'FARAL' 'FARDANAD' 'GARY' 'GLAN'\n",
      " 'GRAG' 'GRAN' 'HALARY' 'HALY' 'HARNAN' 'HARV' 'IAN' 'ILASTRATAD' 'J'\n",
      " 'JACY' 'JADY' 'JAF' 'JAL' 'JALAN' 'JALY' 'JAN' 'JANAFAR' 'JANY' 'JARY'\n",
      " 'JAVAC' 'JYC' 'L' 'LABAN' 'LACY' 'LAN' 'LANANY' 'LANDSY' 'LAR' 'LARAN'\n",
      " 'LARY' 'LAS' 'M' 'MAC' 'MACAL' 'MALAL' 'MAN' 'MARAC' 'MARAN' 'MARC'\n",
      " 'MARGARAT' 'MARY' 'MAT' 'MATAW' 'MC' 'MY' 'NAC' 'NAL' 'NANCY' 'NARTAN'\n",
      " 'OLAVAR' 'PAP' 'PATAR' 'PATRAC' 'PYTAN' 'QAN' 'R' 'RAB' 'RABAD' 'RAF'\n",
      " 'RAN' 'RY' 'SAF' 'SAL' 'SAN' 'SANAN' 'SANDR' 'SAR' 'SARNAN' 'SASAN'\n",
      " 'SAVAN' 'STAF' 'TAD' 'TADAR' 'TAN' 'TANY' 'VAC' 'VACTAR' 'WALAN' 'WALTAR'\n",
      " 'YLV'].\n"
     ]
    }
   ],
   "source": [
    "# Importing numpy\n",
    "# ...YOUR CODE FOR TASK 3...\n",
    "import numpy as np\n",
    "# Looping through author's first names to create the nysiis (fuzzy) equivalent\n",
    "nysiis_name = []\n",
    "# ...YOUR CODE FOR TASK 3...\n",
    "for first_name in author_df['first_name']:\n",
    "    equ = fuzzy.nysiis(first_name)\n",
    "    nysiis_name.append(equ.split()[0])\n",
    "# Adding nysiis_name as a column to author_df\n",
    "# ...YOUR CODE FOR TASK 3...\n",
    "author_df['nysiis_name']= nysiis_name\n",
    "# Printing out the difference between unique firstnames and unique nysiis_names:\n",
    "# ...YOUR CODE FOR TASK 3...\n",
    "numOne = np.unique(author_df['first_name'])\n",
    "listOne = list(numOne)\n",
    "numTwo = np.unique(author_df['nysiis_name'])\n",
    "listTwo = list(numTwo)\n",
    "\n",
    "# Compare the difference\n",
    "print(str(\"The difference between name and nysiis name is: \"+ str(numOne)+ \",\"+ str(numTwo)+ \".\"))"
   ]
  },
  {
   "cell_type": "markdown",
   "metadata": {
    "dc": {
     "key": "24"
    },
    "deletable": false,
    "editable": false,
    "run_control": {
     "frozen": true
    },
    "tags": [
     "context"
    ]
   },
   "source": [
    "## 4. The inbetweeners\n",
    "<p>We'll use <code>babynames_nysiis.csv</code>, a dataset that is derived from <a href=\"https://www.ssa.gov/oact/babynames/limits.html\">the Social Security Administration’s baby name data</a>, to identify author genders. The dataset contains unique NYSIIS versions of baby names, and also includes the percentage of times the name appeared as a female name (<code>perc_female</code>) and the percentage of times it appeared as a male name (<code>perc_male</code>). </p>\n",
    "<p>We'll use this data to create a list of <code>gender</code>. Let's make the following simplifying assumption: For each name, if <code>perc_female</code> is greater than <code>perc_male</code> then assume the name is female, if <code>perc_female</code> is less than <code>perc_male</code> then assume it is a male name, and if the percentages are equal then it's a \"neutral\" name.</p>"
   ]
  },
  {
   "cell_type": "code",
   "execution_count": 27,
   "metadata": {
    "dc": {
     "key": "24"
    },
    "tags": [
     "sample_code"
    ]
   },
   "outputs": [
    {
     "name": "stdout",
     "output_type": "stream",
     "text": [
      "  babynysiis  perc_female  perc_male\n",
      "0        NaN        62.50      37.50\n",
      "1        RAX        63.64      36.36\n",
      "2       ESAR        44.44      55.56\n",
      "3      DJANG         0.00     100.00\n",
      "4     PARCAL        25.00      75.00\n",
      "  babynysiis  perc_female  perc_male gender\n",
      "0        NaN        62.50      37.50      F\n",
      "1        RAX        63.64      36.36      F\n",
      "2       ESAR        44.44      55.56      M\n",
      "3      DJANG         0.00     100.00      M\n",
      "4     PARCAL        25.00      75.00      M\n"
     ]
    }
   ],
   "source": [
    "# Reading in datasets/babynames_nysiis.csv, which is semicolon delimited.\n",
    "babies_df = pd.read_csv('datasets/babynames_nysiis.csv', delimiter = ';')\n",
    "print(babies_df.head())\n",
    "\n",
    "# Looping through babies_df to and filling up gender\n",
    "gender = []\n",
    "# ... YOUR CODE FOR TASK 4 ...\n",
    "for idx, row in babies_df.iterrows():\n",
    "    if row[1]> row[2]:\n",
    "        gender.append('F')\n",
    "    elif row[1]< row[2]:\n",
    "        gender.append('M')\n",
    "    else:\n",
    "        gender.append('N')\n",
    "# Adding a gender column to babies_df\n",
    "# ... YOUR CODE FOR TASK 4 ...\n",
    "babies_df['gender'] = pd.Series(gender)\n",
    "# Printing out the first few rows of babies_df\n",
    "# ... YOUR CODE FOR TASK 4 ...\n",
    "print(babies_df.head())"
   ]
  },
  {
   "cell_type": "markdown",
   "metadata": {
    "dc": {
     "key": "31"
    },
    "deletable": false,
    "editable": false,
    "run_control": {
     "frozen": true
    },
    "tags": [
     "context"
    ]
   },
   "source": [
    "## 5. Playing matchmaker\n",
    "<p>Now that we have identified the likely genders of different names, let's find author genders by searching for each author's name in the <code>babies_df</code> DataFrame, and extracting the associated gender. </p>"
   ]
  },
  {
   "cell_type": "code",
   "execution_count": 28,
   "metadata": {
    "dc": {
     "key": "31"
    },
    "tags": [
     "sample_code"
    ]
   },
   "outputs": [
    {
     "data": {
      "text/plain": [
       "F          395\n",
       "M          191\n",
       "Unknown      9\n",
       "N            8\n",
       "Name: author_gender, dtype: int64"
      ]
     },
     "execution_count": 28,
     "metadata": {},
     "output_type": "execute_result"
    }
   ],
   "source": [
    "# This function returns the location of an element in a_list.\n",
    "# Where an item does not exist, it returns -1.\n",
    "def locate_in_list(a_list, element):\n",
    "    loc_of_name = a_list.index(element) if element in a_list else -1\n",
    "    return(loc_of_name)\n",
    "\n",
    "# Looping through author_df['nysiis_name'] and appending the gender of each\n",
    "# author to author_gender.\n",
    "author_gender = []\n",
    "# ...YOUR CODE FOR TASK 5...\n",
    "for name in author_df['nysiis_name']:\n",
    "    index = locate_in_list(list(babies_df['babynysiis']), name)\n",
    "    if index == -1:\n",
    "        author_gender.append('Unknown')\n",
    "    else:\n",
    "        author_gender.append(list(babies_df['gender'])[index])\n",
    "# Adding author_gender to the author_df\n",
    "# ...YOUR CODE FOR TASK 5...\n",
    "author_df['author_gender'] = author_gender\n",
    "# Counting the author's genders\n",
    "# ...YOUR CODE FOR TASK 5...\n",
    "author_df['author_gender'].value_counts()"
   ]
  },
  {
   "cell_type": "markdown",
   "metadata": {
    "dc": {
     "key": "38"
    },
    "deletable": false,
    "editable": false,
    "run_control": {
     "frozen": true
    },
    "tags": [
     "context"
    ]
   },
   "source": [
    "## 6. Tally up\n",
    "<p>From the results above see that there are more female authors on the New York Times best seller's list than male authors. Our dataset spans 2008 to 2017. Let's find out if there have been changes over time.</p>"
   ]
  },
  {
   "cell_type": "code",
   "execution_count": 37,
   "metadata": {
    "dc": {
     "key": "38"
    },
    "tags": [
     "sample_code"
    ]
   },
   "outputs": [
    {
     "name": "stdout",
     "output_type": "stream",
     "text": [
      "[8, 19, 27, 21, 21, 11, 21, 18, 25, 20]\n",
      "[15, 45, 48, 51, 46, 51, 34, 30, 32, 43]\n",
      "[0, 0, 0, 0, 0, 0, 0, 0, 0, 0]\n"
     ]
    }
   ],
   "source": [
    "# Creating a list of unique years, sorted in ascending order.\n",
    "years = np.unique(author_df['Year'])\n",
    "\n",
    "# Initializing lists\n",
    "males_by_yr = []\n",
    "females_by_yr = []\n",
    "unknown_by_yr = []\n",
    "\n",
    "# Looping through years to find the number of male, female and unknown authors per year\n",
    "# ...YOUR CODE FOR TASK 6...\n",
    "for year in years:\n",
    "    males_by_yr.append(len(author_df[(author_df['Year']== year) & (author_df['author_gender'] == 'M')]))\n",
    "    females_by_yr.append(len(author_df[(author_df['Year']== year) & (author_df['author_gender'] == 'F')]))\n",
    "    unknown_by_yr.append(len(author_df[(author_df['Year']== year) & (author_df['author_gender'] =='U')]))\n",
    "# Printing out yearly values to examine changes over time\n",
    "# ...YOUR CODE FOR TASK 6...\n",
    "print(males_by_yr)\n",
    "print(females_by_yr)\n",
    "print(unknown_by_yr)"
   ]
  },
  {
   "cell_type": "markdown",
   "metadata": {
    "dc": {
     "key": "45"
    },
    "deletable": false,
    "editable": false,
    "run_control": {
     "frozen": true
    },
    "tags": [
     "context"
    ]
   },
   "source": [
    "## 7. Foreign-born authors?\n",
    "<p>Our gender data comes from social security applications of individuals born in the US. Hence, one possible explanation for why there are \"unknown\" genders associated with some author names is because these authors were foreign-born. While making this assumption, we should note that these are only a subset of foreign-born authors as others will have names that have a match in <code>baby_df</code> (and in the social security dataset). </p>\n",
    "<p>Using a bar chart, let's explore the trend of foreign-born authors with no name matches in the social security dataset.</p>"
   ]
  },
  {
   "cell_type": "code",
   "execution_count": 38,
   "metadata": {
    "dc": {
     "key": "45"
    },
    "tags": [
     "sample_code"
    ]
   },
   "outputs": [
    {
     "data": {
      "text/plain": [
       "Text(0,0.5,'Year')"
      ]
     },
     "execution_count": 38,
     "metadata": {},
     "output_type": "execute_result"
    },
    {
     "data": {
      "image/png": "[encoded data removed]",
      "text/plain": [
       "<matplotlib.figure.Figure at 0x7fdbaa3be320>"
      ]
     },
     "metadata": {},
     "output_type": "display_data"
    }
   ],
   "source": [
    "# Importing matplotlib\n",
    "import matplotlib.pyplot as plt\n",
    "\n",
    "# This makes plots appear in the notebook\n",
    "%matplotlib inline\n",
    "\n",
    "# Plotting the bar chart\n",
    "# ...YOUR CODE FOR TASK 7...\n",
    "plt.bar(unknown_by_yr, 'Year')\n",
    "# [OPTIONAL] - Setting a title, and axes labels\n",
    "plt.title('Year vs Foreign born author')\n",
    "plt.xlabel('Unknown Author')\n",
    "plt.ylabel('Year')\n",
    "# ...YOUR CODE FOR TASK 7...\n",
    "# I think I made an error here \n",
    "# Maybe the Y axis should be \"Years\" instead of \"Year\"\n",
    "# But the Datacamp showed it ran well \n",
    "# So I did not modified"
   ]
  },
  {
   "cell_type": "markdown",
   "metadata": {
    "dc": {
     "key": "52"
    },
    "deletable": false,
    "editable": false,
    "run_control": {
     "frozen": true
    },
    "tags": [
     "context"
    ]
   },
   "source": [
    "## 8. Raising the bar\n",
    "<p>What’s more exciting than a bar chart is a grouped bar chart. This type of chart is good for displaying <em>changes</em> over time while also <em>comparing</em> two or more groups. Let’s use a grouped bar chart to look at the distribution of male and female authors over time.</p>"
   ]
  },
  {
   "cell_type": "code",
   "execution_count": 40,
   "metadata": {
    "dc": {
     "key": "52"
    },
    "tags": [
     "sample_code"
    ]
   },
   "outputs": [
    {
     "data": {
      "text/plain": [
       "Text(0,0.5,'Year')"
      ]
     },
     "execution_count": 40,
     "metadata": {},
     "output_type": "execute_result"
    },
    {
     "data": {
      "image/png": "[encoded data removed]",
      "text/plain": [
       "<matplotlib.figure.Figure at 0x7fdb99363b00>"
      ]
     },
     "metadata": {},
     "output_type": "display_data"
    }
   ],
   "source": [
    "# Creating a new list, where 0.25 is added to each year\n",
    "years_shifted = [year + 0.25 for year in years]\n",
    "\n",
    "# Plotting males_by_yr by year\n",
    "# ... YOUR CODE FOR TASK 8 ...\n",
    "plt.bar(males_by_yr, 'year', width = 0.25, color = 'lightblue')\n",
    "# Plotting females_by_yr by years_shifted\n",
    "# ... YOUR CODE FOR TASK 8 ...\n",
    "plt.bar(females_by_yr, 'year', width = 0.25, color = 'pink')\n",
    "# [OPTIONAL] - Adding relevant Axes labels and Chart Title\n",
    "# ... YOUR CODE FOR TASK 8 ...\n",
    "plt.title('Author of Year')\n",
    "plt.xlabel('Author')\n",
    "plt.ylabel('Year')"
   ]
  }
 ],
 "metadata": {
  "kernelspec": {
   "display_name": "Python 3",
   "language": "python",
   "name": "python3"
  },
  "language_info": {
   "codemirror_mode": {
    "name": "ipython",
    "version": 3
   },
   "file_extension": ".py",
   "mimetype": "text/x-python",
   "name": "python",
   "nbconvert_exporter": "python",
   "pygments_lexer": "ipython3",
   "version": "3.7.4"
  }
 },
 "nbformat": 4,
 "nbformat_minor": 2
}
